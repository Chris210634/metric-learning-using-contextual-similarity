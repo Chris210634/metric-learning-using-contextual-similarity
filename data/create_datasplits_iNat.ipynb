{
 "cells": [
  {
   "cell_type": "code",
   "execution_count": 1,
   "id": "02719419",
   "metadata": {},
   "outputs": [
    {
     "data": {
      "text/html": [
       "<style>.container { width:100% !important; }</style>"
      ],
      "text/plain": [
       "<IPython.core.display.HTML object>"
      ]
     },
     "metadata": {},
     "output_type": "display_data"
    }
   ],
   "source": [
    "from IPython.display import display, HTML\n",
    "display(HTML(\"<style>.container { width:100% !important; }</style>\"))"
   ]
  },
  {
   "cell_type": "code",
   "execution_count": null,
   "id": "f3b33f14",
   "metadata": {},
   "outputs": [],
   "source": [
    "! wget https://ml-inat-competition-datasets.s3.amazonaws.com/2021/train_mini.json.tar.gz\n",
    "! tar -xvf train_mini.json.tar.gz"
   ]
  },
  {
   "cell_type": "code",
   "execution_count": 5,
   "id": "e8a87c35",
   "metadata": {},
   "outputs": [],
   "source": [
    "import json\n",
    "data = json.load(open('train_mini.json'))"
   ]
  },
  {
   "cell_type": "code",
   "execution_count": 7,
   "id": "7f90e3d7",
   "metadata": {},
   "outputs": [
    {
     "data": {
      "text/plain": [
       "dict_keys(['info', 'images', 'categories', 'annotations', 'licenses'])"
      ]
     },
     "execution_count": 7,
     "metadata": {},
     "output_type": "execute_result"
    }
   ],
   "source": [
    "data.keys()"
   ]
  },
  {
   "cell_type": "code",
   "execution_count": 13,
   "id": "b40fcae3",
   "metadata": {},
   "outputs": [],
   "source": [
    "root = # this is the train_mini folder containing the data\n",
    "# e.g. root = <>/train_mini"
   ]
  },
  {
   "cell_type": "code",
   "execution_count": 14,
   "id": "293e8190",
   "metadata": {},
   "outputs": [
    {
     "name": "stdout",
     "output_type": "stream",
     "text": [
      "0: Amphibians has 170 classes\n",
      "1: Animalia has 142 classes\n",
      "2: Arachnids has 153 classes\n",
      "3: Birds has 1486 classes\n",
      "4: Fungi has 341 classes\n",
      "5: Insects has 2526 classes\n",
      "6: Mammals has 246 classes\n",
      "7: Mollusks has 169 classes\n",
      "8: Plants has 4271 classes\n",
      "9: Ray-finned Fishes has 183 classes\n",
      "10: Reptiles has 313 classes\n"
     ]
    }
   ],
   "source": [
    "import numpy as np\n",
    "import os\n",
    "\n",
    "# make two files 50 % test / train split\n",
    "# iNaturalist_test.txt, iNaturalist_train.txt\n",
    "# format line: <jpg_path>, <super label>, <label>\n",
    "superlabels_str_unique, counts = np.unique(np.array([d['supercategory'] for d in data['categories']]), return_counts=True)\n",
    "# ['Amphibians' 'Animalia' 'Arachnids' 'Birds' 'Fungi' 'Insects' 'Mammals' 'Mollusks' 'Plants' 'Ray-finned Fishes' 'Reptiles']\n",
    "# counts: [ 170,  142,  153, 1486,  341, 2526,  246,  169, 4271,  183,  313]\n",
    "# len(superlabels_str_unique) == 11, so the superlabels will be 0 - 10\n",
    "train_txt = 'iNaturalist_train.txt'\n",
    "test_txt = 'iNaturalist_test.txt'\n",
    "format_string = '{},{},{}\\n'\n",
    "\n",
    "train_f = open(train_txt, 'w')\n",
    "test_f = open(test_txt, 'w')\n",
    "\n",
    "for superlabel in range(len(superlabels_str_unique)):\n",
    "    classes = []\n",
    "    for c in data['categories']:\n",
    "        if c['supercategory'] == superlabels_str_unique[superlabel]:\n",
    "            classes.append(c['image_dir_name'])\n",
    "    print('{}: {} has {} classes'.format(superlabel, superlabels_str_unique[superlabel], len(classes)))\n",
    "    num_test_classes = len(classes) // 2\n",
    "    num_train_classes = len(classes) - num_test_classes\n",
    "    np.random.shuffle(classes)\n",
    "    test_classes = classes[:num_test_classes]\n",
    "    train_classes = classes[num_test_classes:]\n",
    "    for cls in test_classes:\n",
    "        jpg_list = os.listdir(root + '/' + cls)\n",
    "        class_id = int(cls.split('_')[0])\n",
    "        for jpg in jpg_list:\n",
    "            test_f.write(format_string.format(cls + '/' + jpg, superlabel, class_id)) ###\n",
    "    for cls in train_classes:\n",
    "        jpg_list = os.listdir(root + '/' + cls)\n",
    "        class_id = int(cls.split('_')[0])\n",
    "        for jpg in jpg_list:\n",
    "            train_f.write(format_string.format(cls + '/' + jpg, superlabel, class_id)) ###\n",
    "train_f.close()\n",
    "test_f.close()"
   ]
  }
 ],
 "metadata": {
  "kernelspec": {
   "display_name": "Python 3",
   "language": "python",
   "name": "python3"
  },
  "language_info": {
   "codemirror_mode": {
    "name": "ipython",
    "version": 3
   },
   "file_extension": ".py",
   "mimetype": "text/x-python",
   "name": "python",
   "nbconvert_exporter": "python",
   "pygments_lexer": "ipython3",
   "version": "3.8.10"
  }
 },
 "nbformat": 4,
 "nbformat_minor": 5
}
